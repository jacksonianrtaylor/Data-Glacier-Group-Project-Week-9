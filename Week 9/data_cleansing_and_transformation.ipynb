{
 "cells": [
  {
   "cell_type": "code",
   "execution_count": 1,
   "metadata": {},
   "outputs": [
    {
     "name": "stdout",
     "output_type": "stream",
     "text": [
      "['age', 'duration', 'campaign', 'pdays', 'previous', 'emp.var.rate', 'cons.price.idx', 'cons.conf.idx', 'euribor3m', 'nr.employed']\n",
      "['job', 'marital', 'education', 'default', 'housing', 'loan', 'contact', 'month', 'day_of_week', 'poutcome', 'y']\n"
     ]
    }
   ],
   "source": [
    "import pandas as pd\n",
    "import numpy as np\n",
    "\n",
    "\n",
    "#Note: please comment on transformation techniques I might beable to add\n",
    "#I am leaving out data normalization since the type of normalization to apply can depend on the model which we determine later\n",
    "\n",
    "\n",
    "\n",
    "df = pd.read_csv(\"bank-additional-full.csv\", delimiter=\";\")\n",
    "\n",
    "\n",
    "columns_in_order = df.columns\n",
    "\n",
    "numeric_columns = [] \n",
    "categorical_columns = []\n",
    "\n",
    "\n",
    "for col in df.columns:\n",
    "    if(df[col].dtype==object):\n",
    "        df[col] = df[col].astype('category')\n",
    "        categorical_columns.append(col)\n",
    "    else:   \n",
    "        numeric_columns.append(col)\n",
    "\n",
    "\n",
    "\n",
    "print(numeric_columns)\n",
    "print(categorical_columns)"
   ]
  },
  {
   "cell_type": "code",
   "execution_count": 36,
   "metadata": {},
   "outputs": [
    {
     "name": "stdout",
     "output_type": "stream",
     "text": [
      "Index(['job_admin.', 'job_blue-collar', 'job_entrepreneur', 'job_housemaid',\n",
      "       'job_management', 'job_retired', 'job_self-employed', 'job_services',\n",
      "       'job_student', 'job_technician', 'job_unemployed', 'job_unknown',\n",
      "       'marital_divorced', 'marital_married', 'marital_single',\n",
      "       'marital_unknown', 'education_basic.4y', 'education_basic.6y',\n",
      "       'education_basic.9y', 'education_high.school', 'education_illiterate',\n",
      "       'education_professional.course', 'education_university.degree',\n",
      "       'education_unknown', 'default_no', 'default_unknown', 'default_yes',\n",
      "       'housing_no', 'housing_unknown', 'housing_yes', 'loan_no',\n",
      "       'loan_unknown', 'loan_yes', 'contact_cellular', 'contact_telephone',\n",
      "       'month_apr', 'month_aug', 'month_dec', 'month_jul', 'month_jun',\n",
      "       'month_mar', 'month_may', 'month_nov', 'month_oct', 'month_sep',\n",
      "       'day_of_week_fri', 'day_of_week_mon', 'day_of_week_thu',\n",
      "       'day_of_week_tue', 'day_of_week_wed', 'poutcome_failure',\n",
      "       'poutcome_nonexistent', 'poutcome_success', 'y_no', 'y_yes', 'age',\n",
      "       'duration', 'campaign', 'pdays', 'previous', 'emp.var.rate',\n",
      "       'cons.price.idx', 'cons.conf.idx', 'euribor3m', 'nr.employed'],\n",
      "      dtype='object')\n"
     ]
    }
   ],
   "source": [
    "\n",
    "categorical_df_encoded = pd.get_dummies(df[categorical_columns])\n",
    "df_encoded = categorical_df_encoded\n",
    "\n",
    "df_encoded[numeric_columns] = df[numeric_columns]\n",
    "\n",
    "print(df_encoded.columns)"
   ]
  },
  {
   "cell_type": "code",
   "execution_count": 3,
   "metadata": {},
   "outputs": [
    {
     "name": "stdout",
     "output_type": "stream",
     "text": [
      "[ 0.78466824  3.26302242  4.76233325 -4.92201066  3.83190268 -0.72406918\n",
      " -0.23087924  0.30316882 -0.70916213 -1.04422438]\n",
      "passes age\n",
      "fails duration\n",
      "fails campaign\n",
      "fails pdays\n",
      "fails previous\n",
      "passes emp.var.rate\n",
      "passes cons.price.idx\n",
      "passes cons.conf.idx\n",
      "passes euribor3m\n",
      "fails nr.employed\n",
      "\n",
      "[ 0.14134008 -0.42131157  0.75489295 -5.00583935  2.58694598 -0.72406918\n",
      " -0.24116148  0.30316882 -0.79070133 -1.06362217]\n",
      "passes age\n",
      "passes duration\n",
      "passes campaign\n",
      "fails pdays\n",
      "fails previous\n",
      "passes emp.var.rate\n",
      "passes cons.price.idx\n",
      "passes cons.conf.idx\n",
      "passes euribor3m\n",
      "fails nr.employed\n"
     ]
    }
   ],
   "source": [
    "from scipy.stats import skew\n",
    "import math\n",
    "import math\n",
    "from scipy import stats\n",
    "\n",
    "skewness = skew(df[numeric_columns])\n",
    "print(skewness)\n",
    "\n",
    "i =0\n",
    "for item in skewness:\n",
    "    if abs(item)<1:\n",
    "        print(\"passes\", numeric_columns[i])\n",
    "    else:\n",
    "        print(\"fails\", numeric_columns[i])\n",
    "    i+=1\n",
    "\n",
    "print()\n",
    "\n",
    "positive_columns = []\n",
    "mixed_columns = []\n",
    "for col in numeric_columns:\n",
    "    if ((df[col] >= 0).all()):\n",
    "        positive_columns.append(col)\n",
    "    else:\n",
    "        mixed_columns.append(col)\n",
    "\n",
    "\n",
    "numerical_df = df[positive_columns].map(lambda x: np.log(x+1))\n",
    "numerical_df[mixed_columns] = df[mixed_columns]\n",
    "numerical_df = numerical_df[numeric_columns]\n",
    "\n",
    "numerical_df[\"campaign\"] = numerical_df[\"campaign\"].map(lambda x: math.pow(x, 1/3))\n",
    "\n",
    "\n",
    "new_skewness = skew(numerical_df)\n",
    "\n",
    "print(new_skewness)\n",
    "\n",
    "i =0\n",
    "for item in new_skewness:\n",
    "    if abs(item)<1:\n",
    "        print(\"passes\", numeric_columns[i])\n",
    "    else:\n",
    "        print(\"fails\", numeric_columns[i])\n",
    "    i+=1\n",
    "\n"
   ]
  },
  {
   "cell_type": "code",
   "execution_count": 34,
   "metadata": {},
   "outputs": [
    {
     "data": {
      "image/png": "[encoded data removed]",
      "text/plain": [
       "<Figure size 640x480 with 1 Axes>"
      ]
     },
     "metadata": {},
     "output_type": "display_data"
    },
    {
     "name": "stdout",
     "output_type": "stream",
     "text": [
      "[0 1 2 3 4 5 6 7]\n",
      "[0, 1, 2, 3, 4, 5, 6, 7]\n",
      "Categories (8, int64): [0 < 1 < 2 < 3 < 4 < 5 < 6 < 7]\n",
      "Index(['pdays_1', 'pdays_2', 'pdays_3', 'pdays_4', 'pdays_5', 'pdays_6',\n",
      "       'pdays_7', 'pdays_8', 'pdays_9', 'pdays_10', 'pdays_11', 'previous'],\n",
      "      dtype='object')\n"
     ]
    },
    {
     "data": {
      "image/png": "[encoded data removed]",
      "text/plain": [
       "<Figure size 640x480 with 1 Axes>"
      ]
     },
     "metadata": {},
     "output_type": "display_data"
    },
    {
     "name": "stdout",
     "output_type": "stream",
     "text": [
      "{np.int64(1), np.int64(2), np.int64(3), np.int64(4), np.int64(5), np.int64(8), np.int64(10)}\n",
      "Index(['pdays_1', 'pdays_2', 'pdays_3', 'pdays_4', 'pdays_5', 'pdays_6',\n",
      "       'pdays_7', 'pdays_8', 'pdays_9', 'pdays_10', 'pdays_11', 'previous',\n",
      "       'nr.employed'],\n",
      "      dtype='object')\n"
     ]
    }
   ],
   "source": [
    "import matplotlib.pyplot as plt \n",
    "\n",
    "numerical_df = df[numeric_columns]\n",
    "\n",
    "new_categorical_vars = pd.DataFrame()\n",
    "\n",
    "# print(len(numerical_df[\"pdays\"][numerical_df[\"pdays\"]!=999]))\n",
    "# print(len(numerical_df[\"pdays\"][numerical_df[\"pdays\"]==999]))\n",
    "# print(len(numerical_df[\"pdays\"]))\n",
    "\n",
    "\n",
    "# The pdays feature is extremely abnormal due to many data points with the value of 999\n",
    "# it is binned in a special way to avoid many bins with zero frequencies\n",
    "# first the data is filtered for values that are not 999\n",
    "# Then normal binning commences\n",
    "# then the non filtered series is used to add the values of 999 with a corresponding bin value of 11\n",
    "# this feature should be transformed into a onehot-encoded categorical variable since \n",
    "# the values between what the bins represent is non-linear since values with 999 is in the last bin.\n",
    "\n",
    "\n",
    "filtered_pday = numerical_df[\"pdays\"][numerical_df[\"pdays\"]!=999]\n",
    "bins = np.linspace(min(filtered_pday), max(filtered_pday), 10) \n",
    "binned = list(np.digitize(filtered_pday, bins))\n",
    "old_nof_values = len(set(binned))\n",
    "i =0\n",
    "for item in list(numerical_df[\"pdays\"]):\n",
    "    if item == 999:\n",
    "        binned.insert(i, np.int64(old_nof_values+1))\n",
    "i+=1\n",
    "plt.hist(binned, bins=len(bins)+1, edgecolor='black') \n",
    "plt.show()\n",
    "new_categorical_vars = pd.get_dummies(pd.Categorical(binned), prefix='pdays')\n",
    "\n",
    "\n",
    "# Convert previous to ordinal categorical variable due to extreme skewness\n",
    "print(numerical_df[\"previous\"].unique())\n",
    "new_categorical_vars[\"previous\"] = pd.Categorical(numerical_df[\"previous\"], ordered=True)\n",
    "print(new_categorical_vars[\"previous\"].unique())\n",
    "print(new_categorical_vars.columns)\n",
    "\n",
    "\n",
    "# convert nr.employed to ordinal categorical variable with binning\n",
    "# This is due to skewness that could not be solved in log and cube transformations\n",
    "# Note: When outliers are removed\n",
    "bins = np.linspace(min(numerical_df[\"nr.employed\"]), max(numerical_df[\"nr.employed\"]), 10) \n",
    "binned = list(np.digitize(numerical_df[\"nr.employed\"], bins))\n",
    "plt.hist(binned, bins=len(bins), edgecolor='black') \n",
    "plt.show()\n",
    "print(set(binned))\n",
    "col_names = []\n",
    "new_categorical_vars[\"nr.employed\"] = pd.Categorical(numerical_df[\"nr.employed\"], ordered=True)\n",
    "\n",
    "\n",
    "# Transform to onehot-encoded variables if necessary\n",
    "# for i in range(10):\n",
    "#     if(np.int64(i+1) in set(binned)):\n",
    "#         col_names.append('nr.employed_'+ str(i+1))\n",
    "# new_categorical_vars[col_names] = pd.get_dummies(pd.Categorical(binned), prefix='nr.employed')\n",
    "\n",
    "\n",
    "\n",
    "print(new_categorical_vars.columns)"
   ]
  }
 ],
 "metadata": {
  "kernelspec": {
   "display_name": ".venv",
   "language": "python",
   "name": "python3"
  },
  "language_info": {
   "codemirror_mode": {
    "name": "ipython",
    "version": 3
   },
   "file_extension": ".py",
   "mimetype": "text/x-python",
   "name": "python",
   "nbconvert_exporter": "python",
   "pygments_lexer": "ipython3",
   "version": "3.10.7"
  }
 },
 "nbformat": 4,
 "nbformat_minor": 2
}
